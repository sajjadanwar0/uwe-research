{
 "cells": [
  {
   "metadata": {
    "ExecuteTime": {
     "end_time": "2024-04-16T05:54:30.636555Z",
     "start_time": "2024-04-16T05:52:26.207375Z"
    }
   },
   "cell_type": "code",
   "source": [
    "import os\n",
    "from PIL import Image\n",
    "from io import BytesIO\n",
    "from diffusers import StableDiffusionUpscalePipeline\n",
    "import torch\n",
    "from utils import load_image\n",
    "\n",
    "os.environ[\n",
    "    \"PYTORCH_HIP_ALLOC_CONF\"] = \"garbage_collection_threshold:0.9,max_split_size_mb:128\"\n",
    "# load model and scheduler\n",
    "model_id = \"stabilityai/stable-diffusion-x4-upscaler\"\n",
    "pipeline = StableDiffusionUpscalePipeline.from_pretrained(model_id)\n",
    "device = torch.device(\"cuda:0\" if torch.cuda.is_available() else \"cpu\")\n",
    "\n",
    "pipeline = pipeline.to(device)\n",
    "\n",
    "# let's download an  image\n",
    "low_res_img = load_image('low_res_cat.png').resize((128, 128))\n",
    "\n",
    "prompt = \"a white cat\"\n",
    "\n",
    "upscaled_image = pipeline(prompt=prompt, image=low_res_img).images[0]\n",
    "print(upscaled_image)\n",
    "upscaled_image.save(\"upscaled_cat.png\")"
   ],
   "id": "aa709fa9517e0ffe",
   "outputs": [
    {
     "data": {
      "text/plain": [
       "Fetching 13 files:   0%|          | 0/13 [00:00<?, ?it/s]"
      ],
      "application/vnd.jupyter.widget-view+json": {
       "version_major": 2,
       "version_minor": 0,
       "model_id": "e21f93b99dd34fc792c1a39088be135c"
      }
     },
     "metadata": {},
     "output_type": "display_data"
    },
    {
     "data": {
      "text/plain": [
       "Loading pipeline components...:   0%|          | 0/6 [00:00<?, ?it/s]"
      ],
      "application/vnd.jupyter.widget-view+json": {
       "version_major": 2,
       "version_minor": 0,
       "model_id": "8b1c07c3f4c541d095ed7edeedb08434"
      }
     },
     "metadata": {},
     "output_type": "display_data"
    },
    {
     "data": {
      "text/plain": [
       "  0%|          | 0/75 [00:00<?, ?it/s]"
      ],
      "application/vnd.jupyter.widget-view+json": {
       "version_major": 2,
       "version_minor": 0,
       "model_id": "93252864f100484a857dd0c1ad891ff4"
      }
     },
     "metadata": {},
     "output_type": "display_data"
    },
    {
     "name": "stdout",
     "output_type": "stream",
     "text": [
      "<PIL.Image.Image image mode=RGB size=512x512 at 0x7F9411F05060>\n"
     ]
    }
   ],
   "execution_count": 10
  },
  {
   "metadata": {
    "ExecuteTime": {
     "end_time": "2024-04-16T06:02:24.503197Z",
     "start_time": "2024-04-16T06:00:28.316976Z"
    }
   },
   "cell_type": "code",
   "source": [
    "low_res_flowers = load_image('low_res_flowers.jpeg').resize((128, 128))\n",
    "\n",
    "second_prompt = \"red flowers\"\n",
    "\n",
    "upscaled_image = pipeline(prompt=second_prompt, image=low_res_flowers).images[0]\n",
    "\n",
    "upscaled_image.save(\"up_scaled_flowers.jpeg\")"
   ],
   "id": "90007a6cbf11cf02",
   "outputs": [
    {
     "data": {
      "text/plain": [
       "  0%|          | 0/75 [00:00<?, ?it/s]"
      ],
      "application/vnd.jupyter.widget-view+json": {
       "version_major": 2,
       "version_minor": 0,
       "model_id": "7ee4dfa7cbd7462db1baaf9b49d8a641"
      }
     },
     "metadata": {},
     "output_type": "display_data"
    },
    {
     "name": "stdout",
     "output_type": "stream",
     "text": [
      "<PIL.Image.Image image mode=RGB size=512x512 at 0x7F9411F6B8B0>\n"
     ]
    }
   ],
   "execution_count": 11
  }
 ],
 "metadata": {
  "kernelspec": {
   "display_name": "Python 3",
   "language": "python",
   "name": "python3"
  },
  "language_info": {
   "codemirror_mode": {
    "name": "ipython",
    "version": 2
   },
   "file_extension": ".py",
   "mimetype": "text/x-python",
   "name": "python",
   "nbconvert_exporter": "python",
   "pygments_lexer": "ipython2",
   "version": "2.7.6"
  }
 },
 "nbformat": 4,
 "nbformat_minor": 5
}
